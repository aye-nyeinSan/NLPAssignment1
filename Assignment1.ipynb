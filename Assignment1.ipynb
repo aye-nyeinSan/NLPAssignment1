{
 "cells": [
  {
   "cell_type": "code",
   "execution_count": 5,
   "metadata": {},
   "outputs": [
    {
     "name": "stdout",
     "output_type": "stream",
     "text": [
      "imported libraries\n",
      "file paths set\n"
     ]
    }
   ],
   "source": [
    "#importing required libraries\n",
    "import re\n",
    "from collections import Counter\n",
    "import time\n",
    "\n",
    "print(\"imported libraries!\")\n",
    "\n",
    "# File Paths\n",
    "input_file = \"alice29.txt\"  # Ensure this file exists in the same directory\n",
    "cleaned_file = \"cleaned.txt\"\n",
    "words_file = \"words.txt\"\n",
    "top10_file = \"top10words.txt\"\n",
    "time_log_file = \"time_compares.txt\"\n",
    "\n",
    "print(\"file paths set!\")\n",
    "\n"
   ]
  },
  {
   "cell_type": "code",
   "execution_count": 6,
   "metadata": {},
   "outputs": [
    {
     "name": "stdout",
     "output_type": "stream",
     "text": [
      "File read\n",
      "Time taken to read file:  0.001531839370727539\n"
     ]
    }
   ],
   "source": [
    "#read the input file\n",
    "start_time = time.time()\n",
    "with open(input_file, \"r\") as f:\n",
    "    raw_text = f.read()\n",
    "read_time = time.time() - start_time\n",
    "\n",
    "print(\"File read\")\n",
    "print(\"Time taken to read file: \", read_time)"
   ]
  },
  {
   "cell_type": "code",
   "execution_count": 7,
   "metadata": {},
   "outputs": [
    {
     "name": "stdout",
     "output_type": "stream",
     "text": [
      "File cleaned\n",
      "file written\n",
      "Time taken to clean file:  0.003949165344238281\n"
     ]
    }
   ],
   "source": [
    "clean_start_time = time.time()\n",
    "cleaned_text = re.sub(r\"[^a-zA-Z\\s]\", \"\", raw_text)  # Remove non-alphabetic characters\n",
    "cleaned_text = cleaned_text.lower()  # Convert to lowercase\n",
    "print (\"File cleaned\")\n",
    "cleaned_time = time.time() - clean_start_time\n",
    "with open(cleaned_file, \"w\") as f:\n",
    "    f.write(cleaned_text)\n",
    "print(\"file written\")\n",
    "print(\"Time taken to clean file: \", cleaned_time)\n"
   ]
  },
  {
   "cell_type": "code",
   "execution_count": 9,
   "metadata": {},
   "outputs": [
    {
     "name": "stdout",
     "output_type": "stream",
     "text": [
      "File tokenized\n",
      "Words written to file\n",
      "Time taken to tokenize file:  0.0023508071899414062\n"
     ]
    }
   ],
   "source": [
    "tokenize_start_time = time.time()\n",
    "words = cleaned_text.split()  # Tokenize into words\n",
    "tokenize_time = time.time() - tokenize_start_time\n",
    "print(\"File tokenized\")\n",
    "# Save Words List\n",
    "with open(words_file, \"w\") as f:\n",
    "    f.write(\"\\n\".join(words))\n",
    "print(\"Words written to file\")\n",
    "print(\"Time taken to tokenize file: \", tokenize_time)"
   ]
  },
  {
   "cell_type": "code",
   "execution_count": 11,
   "metadata": {},
   "outputs": [
    {
     "name": "stdout",
     "output_type": "stream",
     "text": [
      "Top 10 words found [('the', 1630), ('and', 844), ('to', 721), ('a', 627), ('she', 536), ('it', 526), ('of', 507), ('said', 462), ('i', 401), ('alice', 385)]\n",
      "Top 10 words written to file\n"
     ]
    }
   ],
   "source": [
    "freq_start_time = time.time()\n",
    "word_counts = Counter(words) # Count word frequencies\n",
    "top_10_words = word_counts.most_common(10) # Get top 10 words\n",
    "print(\"Top 10 words found\", top_10_words)\n",
    "freq_time = time.time() - freq_start_time\n",
    "\n",
    "# Save Top 10 Words\n",
    "with open(top10_file, \"w\") as f:\n",
    "    for word, count in top_10_words:\n",
    "        f.write(f\"{word}: {count}\\n\")\n",
    "print(\"Top 10 words written to file\")"
   ]
  },
  {
   "cell_type": "markdown",
   "metadata": {},
   "source": [
    "Log Time Comparisons\n",
    "Logs the execution time for each case."
   ]
  },
  {
   "cell_type": "code",
   "execution_count": 13,
   "metadata": {},
   "outputs": [
    {
     "name": "stdout",
     "output_type": "stream",
     "text": [
      "Time log written to file\n"
     ]
    }
   ],
   "source": [
    "with open(time_log_file, \"w\") as f:\n",
    "    f.write(f\"Read Time: {read_time:.4f} seconds\\n\")\n",
    "    f.write(f\"Cleaning Time: {cleaned_time:.4f} seconds\\n\")\n",
    "    f.write(f\"Tokenization Time: {tokenize_time:.4f} seconds\\n\")\n",
    "    f.write(f\"Frequency Analysis Time: {freq_time:.4f} seconds\\n\")\n",
    "print(\"Time log written to file\")"
   ]
  }
 ],
 "metadata": {
  "kernelspec": {
   "display_name": "Python 3",
   "language": "python",
   "name": "python3"
  },
  "language_info": {
   "codemirror_mode": {
    "name": "ipython",
    "version": 3
   },
   "file_extension": ".py",
   "mimetype": "text/x-python",
   "name": "python",
   "nbconvert_exporter": "python",
   "pygments_lexer": "ipython3",
   "version": "3.12.6"
  }
 },
 "nbformat": 4,
 "nbformat_minor": 2
}
